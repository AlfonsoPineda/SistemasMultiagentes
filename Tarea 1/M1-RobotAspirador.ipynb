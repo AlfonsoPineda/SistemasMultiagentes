{
 "cells": [
  {
   "cell_type": "markdown",
   "metadata": {},
   "source": [
    "# M1. Simulación de Robot Aspirador\n",
    "\n",
    "Alfonso Pineda Cedillo | A01660394\n",
    "\n",
    "---"
   ]
  },
  {
   "cell_type": "markdown",
   "metadata": {},
   "source": [
    "El objetivo de la actividad es realizar una simulación de un sistema multiagente basado en un robot aspirador, para este primer ejercicio, el movimiento de cada uno de los agentes es completamente aleatorio. Para dar solución a la presente actividad, es neceserario crear un ambiente donde se encontrará el robot, dicho ambiente estará conformado por celdas, las cuales pueden tener un valor booleano de limpio o sucuio. Finalmente, se busca hacer un análisis de las estadísitcas generales con la información generada por los agentes. \n",
    "\n",
    "Una vez considerado lo anterior, es necesario establecer una serie de parámetros iniciales:\n",
    "\n",
    "*   La habitación (ambiente) tiene un tamaño de M * N celdas.\n",
    "*   Contará con un número n de agentes (robots).\n",
    "*   Porcentaje de celdas inicialmente sucias.\n",
    "*   Tiempo máximo de ejecución.\n",
    "\n",
    "Asimismo, contamos con consideraciones iniciales para la simulación:\n",
    "\n",
    "*   De acuerdo con el porcentaje previamente mencionado, se inicializarán las celdas sucias de manera aleatoria. \n",
    "*   Los agentes (robots) se inicializarán en la celda [1,1].\n",
    "*   Para cada paso de tiempo, los agentes deverán considerar lo siguiente:\n",
    "    *   Si la celda está sucia, entonces aspira.\n",
    "     *   Si la celda está limpia, el agente elije una dirección aleatoria para moverse (unas de las 8 celdas vecinas) y elije la acción de movimiento (si no puede moverse allí, permanecerá en la misma celda).\n",
    "*   Se ejecuta el tiempo máximo establecido."
   ]
  },
  {
   "cell_type": "markdown",
   "metadata": {},
   "source": [
    "## Ambiente\n",
    "\n",
    "De acuerdo con la información que tenemos disponible del problema, podemos inferir que contamos con un ambiente parcialmente observable. A pesar de que nosotros como usuarios tenemos visibilidad de todo el tablero, los agentes no cuentan con dicha capacidad, cada robot únicamente puede ver el estado de la celda en la que se encuentra ubicado; en otras palabras, los agentes no cuentan con información del resto de las celdas ni de su comportamiento a lo largo de la simulación. \n",
    "\n",
    "Asimismo, podemos considerar que para este caso particular, contamos con un ambiente estocástico, lo que significa que tiene un comportamiento no determinista; es decir, debido a que el comportamiento de los agentes es completamente al azar, se convierte en un proceso cuyo resultado no es predecible. Es por eso que a lo largo de la actividad, realizaremos diversas iteraciones de la simulación para poder obtener estadísticas generales de la misma.\n",
    "\n",
    "Por otra parte, el ambiente se clasificaría de igual forma como episódico, debido a que existe una división de episodios independientes entre sí; el primero consiste en la percepción del agente (el análisis del estado de la celda en la que se encuentra), el segundo en la acción que se llevará a cabo (aspirar o moverse).\n",
    "\n",
    "Por último, nuestro ambiente también se clasificaría como dinámico, esto debido a que el estado de las celdas puede cambiar a lo largo de la simulación, es decir, las celdas pueden pasar de estar sucias a limpias; este proceso de cambio puede llevarse a cabo incluso al momento en que un robot esté deliberando su próximo movimiento. Debido a lo anterior, es necesario hacer énfasis en que el sistema es multiagente, de manera simultánea existen diversos agentes que interactúan con el ambiente."
   ]
  },
  {
   "cell_type": "markdown",
   "metadata": {},
   "source": [
    "## Agentes\n",
    "\n",
    "Los agentes son los encargados de realizar las acciones dentro del ambiente, en este caso, los agentes son los robots aspiradores. Cada uno de estos robots tiene la capacidad de moverse y aspirar, además de que cada uno de ellos tiene la capacidad de percibir el estado de la celda en la que se encuentra ubicado. Debido a lo anterior, podemos considerar a los agentes como reactivos simples, puesto que sus decisiones se basan únicamente en la información que tienen disponible en el momento (precepto actual) y no en un historial de preceptos; como lo hemos visto anteriormente, el comportamiento de los agentes se basa en verificar si la celda en la que se encuentra esta limpia o sucia, si está limpia, entonces elige una dirección aleatoria para moverse, si está sucia, entonces aspira.\n",
    "\n",
    "De acuerdo con la información previamente mencionada, podemos establecer que el precepto inicial de cada agente es su posición inicial; así que para cada paso posterior, el precepto únicamente será el estado de la celda en la que se encuentra ubicado, debido a que es el único criterio que necesita para tomar una decisión. \n",
    "\n",
    "Por cuestiones de aplicación (para poder agregar una cantidad diferente de suciedad dependiendo de los parámetros iniciales del sistema), establecimos a la suciedad (trash) como un agente más, el cual tiene como precepto inicial estar sucio. "
   ]
  },
  {
   "cell_type": "markdown",
   "metadata": {},
   "source": [
    "## Simulación\n",
    "Primero que nada, es necesario importar las librerías que son necesarias para la realización y análisis de la simulación. Para este ejercicio, haremos uso de la librería mesa como librería principal para la simulación de nuestro modelo basado en agentes, así como de librerías auxiliares."
   ]
  },
  {
   "cell_type": "code",
   "execution_count": 2,
   "metadata": {},
   "outputs": [],
   "source": [
    "import mesa\n",
    "import random\n",
    "\n",
    "# Contador de movimientos\n",
    "movesCounter = 0"
   ]
  },
  {
   "cell_type": "markdown",
   "metadata": {},
   "source": [
    "Definimos al agente que representa la suciedad (trash), el cual, al inicializarlo tiene como precepto su condición inicial previamente descrita, la cual es que debe estar sucio (Suciedad -> 1)."
   ]
  },
  {
   "cell_type": "code",
   "execution_count": 3,
   "metadata": {},
   "outputs": [],
   "source": [
    "class Trash(mesa.Agent):\n",
    "    def __init__(self, unique_id, model):\n",
    "        super().__init__(unique_id, model)\n",
    "        self.state = 1\n",
    "\n",
    "    def step(self):\n",
    "        pass\n"
   ]
  },
  {
   "cell_type": "markdown",
   "metadata": {},
   "source": [
    "Definimos al agente que representa a nuestro robot aspirador, dentro de la clase definimos las acciones que nuestro agente es capaz de realizar, las cuales son: aspirar, moverse y verificar si la celda en la que se encuentra es sucia o limpia. Tenemos la función step, la cual analiza el estado de la celda en la que se encuentra el agente, si está sucia, entonces aspira, si está limpia, entonces elige una dirección aleatoria para moverse; nuestra función move elige una dirección aleatoria para que el agente pueda moverse."
   ]
  },
  {
   "cell_type": "code",
   "execution_count": 33,
   "metadata": {},
   "outputs": [],
   "source": [
    "class Robot(mesa.Agent):\n",
    "    def __init__(self, unique_id, model):\n",
    "        super().__init__(unique_id, model)\n",
    "        self.state = \"Cleaning\"\n",
    "        self.moves = 0\n",
    "\n",
    "    def move(self):\n",
    "        # Definimos la lista de posiciones posibles\n",
    "        nextStep = self.model.grid.get_neighborhood(self.pos, moore=True, include_center=False)\n",
    "\n",
    "        # De forma aleatroia seleccionamos una posición de la lista\n",
    "        new_position = self.random.choice(nextStep)\n",
    "        self.model.grid.move_agent(self, new_position)\n",
    "        self.moves += 1\n",
    "\n",
    "    def step(self):\n",
    "        self.move()\n",
    "        cellmates = self.model.grid.get_cell_list_contents([self.pos])\n",
    "\n",
    "        # En cada paso, si la celda está sucia, se limpia; si la cella está limpia, se mueve. \n",
    "        if any(isinstance(agent, Trash) for agent in cellmates):\n",
    "            trash = next(\n",
    "                agent for agent in cellmates if isinstance(agent, Trash))\n",
    "\n",
    "            self.state = \"Cleaning\"\n",
    "            self.model.grid.remove_agent(trash)\n",
    "\n",
    "        else:\n",
    "            self.state = \"Moving\""
   ]
  },
  {
   "cell_type": "markdown",
   "metadata": {},
   "source": [
    "Declaramos la clase para la simulación de nuestro modelo (ambiente), dentro de la función step verificamos si se ha alcanzado el límite de pasos o no, para saber en qué momento detener la simulación. De igual forma definimos funciones auxiliares que nos ayudan a recopilar la información necesaria para realizar las gráficas (análisis estadístico)."
   ]
  },
  {
   "cell_type": "code",
   "execution_count": 34,
   "metadata": {},
   "outputs": [],
   "source": [
    "class Simulation(mesa.Model):\n",
    "    def __init__(self, M, N, n_agents, dirtyCells, max_steps=100):\n",
    "        self.num_agents = n_agents\n",
    "        self.grid = mesa.space.MultiGrid(M, N, True)\n",
    "        self.schedule = mesa.time.RandomActivation(self)\n",
    "        self.max_steps = max_steps\n",
    "        self.running = True\n",
    "\n",
    "        room = M * N\n",
    "\n",
    "        dirtyCells = int(room * dirtyCells / 100)\n",
    "\n",
    "\n",
    "        # Creamos los robots aspiradores (agentes)\n",
    "        for i in range(self.num_agents):\n",
    "            r = Robot(i, self)\n",
    "            self.schedule.add(r)\n",
    "\n",
    "            self.grid.place_agent(r, (1, 1)) # El agente se inicializa en la posición (1, 1)\n",
    "\n",
    "        counter = 0\n",
    "\n",
    "        # Creamos al agente que representa la suciedad\n",
    "        while counter < dirtyCells:\n",
    "            a = random.randrange(self.grid.width)\n",
    "            b = random.randrange(self.grid.height)\n",
    "\n",
    "            if self.grid.is_cell_empty((a, b)):\n",
    "                trash = Trash(counter, self)\n",
    "                self.grid.place_agent(trash, (a, b))\n",
    "                counter += 1\n",
    "\n",
    "        # Data Collector para obtener la cantidad de celdas sucias con el paso del tiempo\n",
    "        self.TRData = mesa.DataCollector(\n",
    "            {\n",
    "                \"Trash remaining\": self.dirtyCells,\n",
    "            }\n",
    "        )\n",
    "\n",
    "        self.TRData.collect(self)\n",
    "\n",
    "        # Data Collector para obtener el porcentaje de celdas limpias con el paso del tiempo\n",
    "        self.PCData = mesa.DataCollector(\n",
    "            {\n",
    "                \"Percentage of clean cells\": self.cleanCellsP,\n",
    "            }\n",
    "        )\n",
    "\n",
    "        self.PCData.collect(self)\n",
    "\n",
    "        # Data Collector para obtener el total de movimientos con el paso del tiempo\n",
    "        self.TMData = mesa.DataCollector(\n",
    "            {\n",
    "                \"Total Moves\": self.totalMoves,\n",
    "            }\n",
    "        )\n",
    "        self.TMData.collect(self)\n",
    "\n",
    "        \n",
    "\n",
    "    def step(self):\n",
    "        # Si se alcanza el límite de pasos, se detiene la simulación\n",
    "        if self.schedule.steps >= self.max_steps:\n",
    "            self.running = False\n",
    "\n",
    "        # Si aún no se alcanza el límite de pasos, se ejecuta el paso de la simulación a menos que no haya celdas sucias\n",
    "        elif self.schedule.steps < self.max_steps:\n",
    "            if self.dirtyCells() == 0:\n",
    "                self.running = False\n",
    "\n",
    "            else:\n",
    "                self.schedule.step()\n",
    "        \n",
    "        self.TRData.collect(self)\n",
    "        self.PCData.collect(self)\n",
    "        self.TMData.collect(self)\n",
    "\n",
    "    def run_model(self):\n",
    "        # Mientras la simulación se esté ejecutando\n",
    "        while self.running:\n",
    "            # Ejecuta el paso de la simulación\n",
    "            self.step()\n",
    "\n",
    "    # Fucnión que nos permite obtener los movimeintos totales de los agentes\n",
    "    def totalMoves(self):\n",
    "        movesCounter = 0\n",
    "        for agent in self.schedule.agents:\n",
    "            movesCounter += agent.moves\n",
    "        return movesCounter\n",
    "\n",
    "    # Función que nos permite obtener el número de celdas limpias\n",
    "    def cleanCells(self):\n",
    "        cleanCellsCounter = 0\n",
    "        for cell in self.grid.coord_iter():\n",
    "            cell_content, x, y = cell\n",
    "            if not any(isinstance(agent, Trash) for agent in cell_content):\n",
    "                cleanCellsCounter += 1\n",
    "        return cleanCellsCounter\n",
    "\n",
    "    # Función que nos permite obtener el porcentaje de celdas limpias\n",
    "    def cleanCellsP(self):\n",
    "        return self.cleanCells() / (self.grid.width * self.grid.height) * 100\n",
    "\n",
    "    # Función que nos permite obtener el número de celdas sucias\n",
    "    def dirtyCells(self):\n",
    "        dirtyCellsCounter = 0\n",
    "        for cell in self.grid.coord_iter():\n",
    "            cell_content, x, y = cell\n",
    "            if any(isinstance(agent, Trash) for agent in cell_content):\n",
    "                dirtyCellsCounter += 1\n",
    "        return dirtyCellsCounter\n",
    "\n",
    "    # Función que nos permite obtener el porcentaje de celdas sucias\n",
    "    def dirtyCellsP(self):\n",
    "        # Calcula el porcentaje de celdas Dirty\n",
    "        return self.dirtyCells() / (self.grid.width * self.grid.height) * 100\n"
   ]
  },
  {
   "cell_type": "markdown",
   "metadata": {},
   "source": [
    "Declaramos la función que nos permite visualizar la simulación de nuestro modelo (el tablero y las gráficas), en esta sección definimos nuestras condiciones iniciales. "
   ]
  },
  {
   "cell_type": "code",
   "execution_count": 36,
   "metadata": {},
   "outputs": [
    {
     "name": "stdout",
     "output_type": "stream",
     "text": [
      "Interface starting at http://127.0.0.1:8005\n"
     ]
    },
    {
     "ename": "RuntimeError",
     "evalue": "This event loop is already running",
     "output_type": "error",
     "traceback": [
      "\u001b[0;31m---------------------------------------------------------------------------\u001b[0m",
      "\u001b[0;31mRuntimeError\u001b[0m                              Traceback (most recent call last)",
      "Cell \u001b[0;32mIn [36], line 36\u001b[0m\n\u001b[1;32m     31\u001b[0m server \u001b[39m=\u001b[39m mesa\u001b[39m.\u001b[39mvisualization\u001b[39m.\u001b[39mModularServer(\n\u001b[1;32m     32\u001b[0m     Simulation, [grid,TRchart, PCchart, TMchart], \u001b[39m\"\u001b[39m\u001b[39mEnvyroment\u001b[39m\u001b[39m\"\u001b[39m, {\u001b[39m\"\u001b[39m\u001b[39mM\u001b[39m\u001b[39m\"\u001b[39m: \u001b[39m12\u001b[39m, \u001b[39m\"\u001b[39m\u001b[39mN\u001b[39m\u001b[39m\"\u001b[39m: \u001b[39m12\u001b[39m, \u001b[39m\"\u001b[39m\u001b[39mn_agents\u001b[39m\u001b[39m\"\u001b[39m: \u001b[39m5\u001b[39m, \u001b[39m\"\u001b[39m\u001b[39mdirtyCells\u001b[39m\u001b[39m\"\u001b[39m: \u001b[39m30\u001b[39m }\n\u001b[1;32m     33\u001b[0m     )\n\u001b[1;32m     35\u001b[0m server\u001b[39m.\u001b[39mport \u001b[39m=\u001b[39m \u001b[39m8005\u001b[39m \n\u001b[0;32m---> 36\u001b[0m server\u001b[39m.\u001b[39;49mlaunch()\n",
      "File \u001b[0;32m~/Documents/Tec de Monterrey/5to. Semestre/Modelación de sistemas multiagentes con gráficas computacionales/Sistemas Inteligentes/Tarea 1/H1env/lib/python3.9/site-packages/mesa/visualization/ModularVisualization.py:410\u001b[0m, in \u001b[0;36mModularServer.launch\u001b[0;34m(self, port, open_browser)\u001b[0m\n\u001b[1;32m    408\u001b[0m     webbrowser\u001b[39m.\u001b[39mopen(url)\n\u001b[1;32m    409\u001b[0m tornado\u001b[39m.\u001b[39mautoreload\u001b[39m.\u001b[39mstart()\n\u001b[0;32m--> 410\u001b[0m tornado\u001b[39m.\u001b[39;49mioloop\u001b[39m.\u001b[39;49mIOLoop\u001b[39m.\u001b[39;49mcurrent()\u001b[39m.\u001b[39;49mstart()\n",
      "File \u001b[0;32m~/Documents/Tec de Monterrey/5to. Semestre/Modelación de sistemas multiagentes con gráficas computacionales/Sistemas Inteligentes/Tarea 1/H1env/lib/python3.9/site-packages/tornado/platform/asyncio.py:215\u001b[0m, in \u001b[0;36mBaseAsyncIOLoop.start\u001b[0;34m(self)\u001b[0m\n\u001b[1;32m    213\u001b[0m \u001b[39mtry\u001b[39;00m:\n\u001b[1;32m    214\u001b[0m     asyncio\u001b[39m.\u001b[39mset_event_loop(\u001b[39mself\u001b[39m\u001b[39m.\u001b[39masyncio_loop)\n\u001b[0;32m--> 215\u001b[0m     \u001b[39mself\u001b[39;49m\u001b[39m.\u001b[39;49masyncio_loop\u001b[39m.\u001b[39;49mrun_forever()\n\u001b[1;32m    216\u001b[0m \u001b[39mfinally\u001b[39;00m:\n\u001b[1;32m    217\u001b[0m     asyncio\u001b[39m.\u001b[39mset_event_loop(old_loop)\n",
      "File \u001b[0;32m/Applications/Xcode.app/Contents/Developer/Library/Frameworks/Python3.framework/Versions/3.9/lib/python3.9/asyncio/base_events.py:586\u001b[0m, in \u001b[0;36mBaseEventLoop.run_forever\u001b[0;34m(self)\u001b[0m\n\u001b[1;32m    584\u001b[0m \u001b[39m\"\"\"Run until stop() is called.\"\"\"\u001b[39;00m\n\u001b[1;32m    585\u001b[0m \u001b[39mself\u001b[39m\u001b[39m.\u001b[39m_check_closed()\n\u001b[0;32m--> 586\u001b[0m \u001b[39mself\u001b[39;49m\u001b[39m.\u001b[39;49m_check_running()\n\u001b[1;32m    587\u001b[0m \u001b[39mself\u001b[39m\u001b[39m.\u001b[39m_set_coroutine_origin_tracking(\u001b[39mself\u001b[39m\u001b[39m.\u001b[39m_debug)\n\u001b[1;32m    588\u001b[0m \u001b[39mself\u001b[39m\u001b[39m.\u001b[39m_thread_id \u001b[39m=\u001b[39m threading\u001b[39m.\u001b[39mget_ident()\n",
      "File \u001b[0;32m/Applications/Xcode.app/Contents/Developer/Library/Frameworks/Python3.framework/Versions/3.9/lib/python3.9/asyncio/base_events.py:578\u001b[0m, in \u001b[0;36mBaseEventLoop._check_running\u001b[0;34m(self)\u001b[0m\n\u001b[1;32m    576\u001b[0m \u001b[39mdef\u001b[39;00m \u001b[39m_check_running\u001b[39m(\u001b[39mself\u001b[39m):\n\u001b[1;32m    577\u001b[0m     \u001b[39mif\u001b[39;00m \u001b[39mself\u001b[39m\u001b[39m.\u001b[39mis_running():\n\u001b[0;32m--> 578\u001b[0m         \u001b[39mraise\u001b[39;00m \u001b[39mRuntimeError\u001b[39;00m(\u001b[39m'\u001b[39m\u001b[39mThis event loop is already running\u001b[39m\u001b[39m'\u001b[39m)\n\u001b[1;32m    579\u001b[0m     \u001b[39mif\u001b[39;00m events\u001b[39m.\u001b[39m_get_running_loop() \u001b[39mis\u001b[39;00m \u001b[39mnot\u001b[39;00m \u001b[39mNone\u001b[39;00m:\n\u001b[1;32m    580\u001b[0m         \u001b[39mraise\u001b[39;00m \u001b[39mRuntimeError\u001b[39;00m(\n\u001b[1;32m    581\u001b[0m             \u001b[39m'\u001b[39m\u001b[39mCannot run the event loop while another loop is running\u001b[39m\u001b[39m'\u001b[39m)\n",
      "\u001b[0;31mRuntimeError\u001b[0m: This event loop is already running"
     ]
    }
   ],
   "source": [
    "def agent_portrayal(agent):\n",
    "    portrayal = {\"Shape\": \"circle\",\n",
    "                \"Filled\": \"true\",\n",
    "                \"Layer\": 0,\n",
    "                \"Color\": \"red\",\n",
    "                \"r\": 0.5}\n",
    "\n",
    "    if agent.state == 1:\n",
    "        portrayal[\"Color\"] = \"black\"\n",
    "        portrayal[\"r\"] = 0.2\n",
    "    elif agent.state == \"Cleaning\":\n",
    "        portrayal[\"Color\"] = \"blue\"\n",
    "    else:\n",
    "        portrayal[\"Color\"] = \"blue\"\n",
    "    return portrayal\n",
    "\n",
    "grid = mesa.visualization.CanvasGrid(agent_portrayal, 12, 12, 500, 500)\n",
    "\n",
    "TRchart = mesa.visualization.ChartModule(\n",
    "    [{\"Label\": \"Trash remaining\", \"Color\": \"Blue\"}], data_collector_name=\"TRData\"\n",
    ")\n",
    "\n",
    "PCchart = mesa.visualization.ChartModule(\n",
    "    [{\"Label\": \"Percentage of clean cells\", \"Color\": \"Green\"}], data_collector_name=\"PCData\"\n",
    ")\n",
    "\n",
    "TMchart = mesa.visualization.ChartModule(\n",
    "    [{\"Label\": \"Total Moves\", \"Color\": \"Gray\"}], data_collector_name=\"TMData\"\n",
    ")\n",
    "\n",
    "server = mesa.visualization.ModularServer(\n",
    "    Simulation, [grid,TRchart, PCchart, TMchart], \"Envyroment\", {\"M\": 12, \"N\": 12, \"n_agents\": 5, \"dirtyCells\": 30 }\n",
    "    )\n",
    "\n",
    "server.port = 8005 \n",
    "server.launch()"
   ]
  },
  {
   "cell_type": "markdown",
   "metadata": {},
   "source": [
    "\n",
    "Para analizar los datos obtenidos, primero correremos la simulación con los  siguientes parámetros establecidos, un espacio de 12 x 12 celdas, 30% de suciedad, 100 pasos de tiempo y 5 robots. Posteriormente, aumentaremos la cantidad de agentes (robots aspiradores) a 10 y observaremos los resultados obtenidos.\n",
    "\n",
    "\n",
    "**Gráfica de Celdas sucias restantes vs tiempo (pasos)**\n",
    "\n",
    "Nuestra primer gráfica nos muestra la cantidad de celdas sucias en cada paso de tiempo, podemos observar que a medida que los agentes van limpiando las celdas, la cantidad de celdas sucias va disminuyendo. En el primer caso (con 5 agentes) podemos observar que la cantidad de celdas sucias disminuye a un ritmo relativamente lento, y en muy pocos casos se termina de limpiar la habitación por completo, en la mayoría de los casos, las celdas sucias restantes se mantienen entre 3 y 6. Sin embargo, en el segundo caso (con 10 agentes) podemos observar que la cantidad de celdas sucias disminuye de manera más rápida, esto debido a que la cantidad de agentes es mayor, por lo que la cantidad de celdas sucias que pueden limpiar es mayor; debido a lo anterior, en todas las iteraciones realizadas, la simulación se termina debido a que se logra limpiar la habitación por completo y no por llegar al límite de pasos."
   ]
  },
  {
   "cell_type": "markdown",
   "metadata": {},
   "source": [
    "**Gráfica de porcentaje de Celdas limpias vs tiempo (pasos)**\n",
    "\n",
    "En nuestra segunda gráfica, podemos analizar el porcentaje de celdas limpias en cada paso de tiempo, podemos observar que a medida que los agentes van limpiando las celdas, el porcentaje de celdas limpias va aumentando. En el primer caso (con 5 agentes) podemos observar que el porcentaje de celdas limpias aumenta a un ritmo relativamente lento, y en muy pocos casos se logra llegar a un 100%, en la mayoría de los casos, el porcentaje de celdas limpias se mantiene entre 92% y 98%. Sin embargo, debido a las mismas razones expuestas en la gráfica anterior, en el segundo caso (con 10 agentes) podemos observar que el porcentaje de celdas limpias aumenta de manera más rápida; debido a lo anterior, en todas las iteraciones realizadas, el porcentaje de celdas limpias se mantiene en 100, es decir, se logra limpiar la habitación por completo antes de llegar al límite de pasos."
   ]
  },
  {
   "cell_type": "markdown",
   "metadata": {},
   "source": [
    "**Total de movies vs tiempo (pasos)**\n",
    "\n",
    "Esta tercer gráfica nos uestra la cantidad de movimientos realizados por todos los agentes conforme pasa el tiempo; a diferencia de las gráficas anteriores, en esta última podemos observar un movimiento idéntico para ambos casos, debido a que cada agente se mueve al mismo tiempo, el comportamiento de la gráfica siempre es lineal. La única difernecia entre ambos casos es la cantidad de moviemientos realizados, siendo considerablemente menor cuando el número de agentes es 5, a pesar de que individualmente cada agente realiza menos movimientos (debido a que la habitación se limpia más rápido), la cantidad de movimientos totales es mayor debido a que hay más agentes."
   ]
  },
  {
   "cell_type": "markdown",
   "metadata": {},
   "source": [
    "---\n",
    "\n",
    "Enlace al Repositorio de Github: https://github.com/AlfonsoPineda/SistemasMultiagentes.git"
   ]
  }
 ],
 "metadata": {
  "kernelspec": {
   "display_name": "Python 3.9.6 ('H1env': venv)",
   "language": "python",
   "name": "python3"
  },
  "language_info": {
   "codemirror_mode": {
    "name": "ipython",
    "version": 3
   },
   "file_extension": ".py",
   "mimetype": "text/x-python",
   "name": "python",
   "nbconvert_exporter": "python",
   "pygments_lexer": "ipython3",
   "version": "3.9.6"
  },
  "orig_nbformat": 4,
  "vscode": {
   "interpreter": {
    "hash": "3a4528ebcce12d6ca71c6a1b32f71df8190543f393b0f5ff0c4bb50531d99ff5"
   }
  }
 },
 "nbformat": 4,
 "nbformat_minor": 2
}
