{
 "cells": [
  {
   "cell_type": "markdown",
   "metadata": {},
   "source": [
    "# M1. Simulación de Robot Aspirador\n",
    "\n",
    "Alfonso Pineda Cedillo | A01660394\n",
    "\n",
    "---"
   ]
  },
  {
   "cell_type": "markdown",
   "metadata": {},
   "source": [
    "El objetivo de la actividad es realizar una simulación de un sistema multiagente basado en un robot aspirador, para este primer ejercicio, el movimiento de cada uno de los agentes es completamente aleatorio. Para dar solución a la presente actividad, es neceserario crear un ambiente donde se encontrará el robot, dicho ambiente estará conformado por celdas, las cuales pueden tener un valor booleano de limpio o sucuio. Finalmente, se busca hacer un análisis de las estadísitcas generales con la información generada por los agentes. \n",
    "\n",
    "Una vez considerado lo anterior, es necesario establecer una serie de parámetros iniciales:\n",
    "\n",
    "*   La habitación (ambiente) tiene un tamaño de M * N celdas.\n",
    "*   Contará con un número n de agentes (robots).\n",
    "*   Porcentaje de celdas inicialmente sucias.\n",
    "*   Tiempo máximo de ejecución.\n",
    "\n",
    "Asimismo, contamos con consideraciones iniciales para la simulación:\n",
    "\n",
    "*   De acuerdo con el porcentaje previamente mencionado, se inicializarán las celdas sucias de manera aleatoria. \n",
    "*   Los agentes (robots) se inicializarán en la celda [1,1].\n",
    "*   Para cada paso de tiempo, los agentes deverán considerar lo siguiente:\n",
    "    *   Si la celda está sucia, entonces aspira.\n",
    "     *   Si la celda está limpia, el agente elije una dirección aleatoria para moverse (unas de las 8 celdas vecinas) y elije la acción de movimiento (si no puede moverse allí, permanecerá en la misma celda).\n",
    "*   Se ejecuta el tiempo máximo establecido."
   ]
  },
  {
   "cell_type": "markdown",
   "metadata": {},
   "source": [
    "## Ambiente\n",
    "\n",
    "De acuerdo con la información que tenemos disponible del problema, podemos inferir que contamos con un ambiente parcialmente observable. A pesar de que nosotros como usuarios tenemos visibilidad de todo el tablero, los agentes no cuentan con dicha capacidad, cada robot únicamente puede ver el estado de la celda en la que se encuentra ubicado; en otras palabras, los agentes no cuentan con información del resto de las celdas ni de su comportamiento a lo largo de la simulación. \n",
    "\n",
    "Asimismo, podemos considerar que para este caso particular, contamos con un ambiente estocástico, lo que significa que tiene un comportamiento no determinista; es decir, debido a que el comportamiento de los agentes es completamente al azar, se convierte en un proceso cuyo resultado no es predecible. Es por eso que a lo largo de la actividad, realizaremos diversas iteraciones de la simulación para poder obtener estadísticas generales de la misma.\n",
    "\n",
    "Por otra parte, el ambiente se clasificaría de igual forma como episódico, debido a que existe una división de episodios independientes entre sí; el primero consiste en la percepción del agente (el análisis del estado de la celda en la que se encuentra), el segundo en la acción que se llevará a cabo (aspirar o moverse).\n",
    "\n",
    "Por último, nuestro ambiente también se clasificaría como dinámico, esto debido a que el estado de las celdas puede cambiar a lo largo de la simulación, es decir, las celdas pueden pasar de estar sucias a limpias; este proceso de cambio puede llevarse a cabo incluso al momento en que un robot esté deliberando su próximo movimiento. Debido a lo anterior, es necesario hacer énfasis en que el sistema es multiagente, de manera simultánea existen diversos agentes que interactúan con el ambiente."
   ]
  },
  {
   "cell_type": "markdown",
   "metadata": {},
   "source": [
    "## Agentes\n",
    "\n",
    "Los agentes son los encargados de realizar las acciones dentro del ambiente, en este caso, los agentes son los robots aspiradores. Cada uno de estos robots tiene la capacidad de moverse y aspirar, además de que cada uno de ellos tiene la capacidad de percibir el estado de la celda en la que se encuentra ubicado. Debido a lo anterior, podemos considerar a los agentes como reactivos simples, puesto que sus decisiones se basan únicamente en la información que tienen disponible en el momento (precepto actual) y no en un historial de preceptos; como lo hemos visto anteriormente, el comportamiento de los agentes se basa en verificar si la celda en la que se encuentra esta limpia o sucia, si está limpia, entonces elige una dirección aleatoria para moverse, si está sucia, entonces aspira.\n",
    "\n",
    "De acuerdo con la información previamente mencionada, podemos establecer que el precepto inicial de cada agente es su posición inicial; así que para cada paso posterior, el precepto únicamente será el estado de la celda en la que se encuentra ubicado, debido a que es el único criterio que necesita para tomar una decisión. \n",
    "\n",
    "Por cuestiones de aplicación (para poder agregar una cantidad diferente de suciedad dependiendo de los parámetros iniciales del sistema), establecimos a la suciedad (trash) como un agente más, el cual tiene como precepto inicial estar sucio. "
   ]
  },
  {
   "cell_type": "markdown",
   "metadata": {},
   "source": [
    "## Simulación\n",
    "Primero que nada, es necesario importar las librerías que son necesarias para la realización y análisis de la simulación. Para este ejercicio, haremos uso de la librería mesa como librería principal para la simulación de nuestro modelo basado en agentes, así como de librerías auxiliares."
   ]
  },
  {
   "cell_type": "code",
   "execution_count": 2,
   "metadata": {},
   "outputs": [],
   "source": [
    "import mesa\n",
    "import random\n",
    "import matplotlib.pyplot as plt \n",
    "import pandas as pd\n",
    "import numpy as np\n",
    "\n",
    "# Contador de movimientos\n",
    "movesCounter = 0"
   ]
  },
  {
   "cell_type": "markdown",
   "metadata": {},
   "source": [
    "Definimos al agente que representa la suciedad (trash), el cual, al inicializarlo tiene como precepto su condición inicial previamente descrita, la cual es que debe estar sucio (Suciedad -> 1)."
   ]
  },
  {
   "cell_type": "code",
   "execution_count": 3,
   "metadata": {},
   "outputs": [],
   "source": [
    "class Trash(mesa.Agent):\n",
    "    def __init__(self, unique_id, model):\n",
    "        super().__init__(unique_id, model)\n",
    "        self.state = 1\n",
    "\n",
    "    def step(self):\n",
    "        pass\n"
   ]
  },
  {
   "cell_type": "markdown",
   "metadata": {},
   "source": [
    "Definimos al agente que representa a nuestro robor aspirador (robot)"
   ]
  },
  {
   "cell_type": "code",
   "execution_count": 13,
   "metadata": {},
   "outputs": [
    {
     "name": "stdout",
     "output_type": "stream",
     "text": [
      "{\"type\":\"get_step\",\"step\":69}\n",
      "Dirty cells: 92\n"
     ]
    },
    {
     "name": "stdout",
     "output_type": "stream",
     "text": [
      "{\"type\":\"get_step\",\"step\":70}\n",
      "Dirty cells: 92\n",
      "{\"type\":\"get_step\",\"step\":71}\n",
      "Dirty cells: 92\n",
      "{\"type\":\"get_step\",\"step\":72}\n",
      "Dirty cells: 92\n",
      "{\"type\":\"get_step\",\"step\":73}\n",
      "Dirty cells: 92\n",
      "{\"type\":\"get_step\",\"step\":74}\n",
      "Dirty cells: 92\n",
      "{\"type\":\"get_step\",\"step\":75}\n",
      "Dirty cells: 92\n",
      "Socket opened!\n",
      "{\"type\":\"reset\"}\n",
      "{\"type\":\"get_step\",\"step\":1}\n",
      "Dirty cells: 96\n",
      "{\"type\":\"get_step\",\"step\":2}\n",
      "Dirty cells: 94\n",
      "{\"type\":\"get_step\",\"step\":3}\n",
      "Dirty cells: 92\n",
      "{\"type\":\"get_step\",\"step\":4}\n",
      "Dirty cells: 91\n",
      "{\"type\":\"get_step\",\"step\":5}\n",
      "Dirty cells: 87\n",
      "{\"type\":\"get_step\",\"step\":6}\n",
      "Dirty cells: 85\n",
      "{\"type\":\"get_step\",\"step\":7}\n",
      "Dirty cells: 82\n",
      "{\"type\":\"get_step\",\"step\":8}\n",
      "Dirty cells: 81\n",
      "{\"type\":\"get_step\",\"step\":9}\n",
      "Dirty cells: 79\n",
      "{\"type\":\"get_step\",\"step\":10}\n",
      "Dirty cells: 77\n",
      "{\"type\":\"get_step\",\"step\":11}\n",
      "Dirty cells: 76\n",
      "{\"type\":\"get_step\",\"step\":12}\n",
      "Dirty cells: 73\n",
      "{\"type\":\"get_step\",\"step\":13}\n",
      "Dirty cells: 71\n",
      "{\"type\":\"get_step\",\"step\":14}\n",
      "Dirty cells: 70\n",
      "{\"type\":\"get_step\",\"step\":15}\n",
      "Dirty cells: 69\n",
      "{\"type\":\"get_step\",\"step\":16}\n",
      "Dirty cells: 68\n",
      "{\"type\":\"get_step\",\"step\":17}\n",
      "Dirty cells: 67\n",
      "{\"type\":\"get_step\",\"step\":18}\n",
      "Dirty cells: 66\n",
      "{\"type\":\"get_step\",\"step\":19}\n",
      "Dirty cells: 64\n",
      "{\"type\":\"get_step\",\"step\":20}\n",
      "Dirty cells: 62\n",
      "{\"type\":\"get_step\",\"step\":21}\n",
      "Dirty cells: 59\n",
      "{\"type\":\"get_step\",\"step\":22}\n",
      "Dirty cells: 56\n",
      "{\"type\":\"get_step\",\"step\":23}\n",
      "Dirty cells: 53\n",
      "{\"type\":\"get_step\",\"step\":24}\n",
      "Dirty cells: 51\n",
      "{\"type\":\"get_step\",\"step\":25}\n",
      "Dirty cells: 49\n",
      "{\"type\":\"get_step\",\"step\":26}\n",
      "Dirty cells: 48\n",
      "{\"type\":\"get_step\",\"step\":27}\n",
      "Dirty cells: 45\n",
      "{\"type\":\"get_step\",\"step\":28}\n",
      "Dirty cells: 44\n",
      "{\"type\":\"get_step\",\"step\":29}\n",
      "Dirty cells: 42\n",
      "{\"type\":\"get_step\",\"step\":30}\n",
      "Dirty cells: 40\n",
      "{\"type\":\"get_step\",\"step\":31}\n",
      "Dirty cells: 39\n",
      "{\"type\":\"get_step\",\"step\":32}\n",
      "Dirty cells: 35\n",
      "{\"type\":\"get_step\",\"step\":33}\n",
      "Dirty cells: 34\n",
      "{\"type\":\"get_step\",\"step\":34}\n",
      "Dirty cells: 32\n",
      "{\"type\":\"get_step\",\"step\":35}\n",
      "Dirty cells: 32\n",
      "{\"type\":\"get_step\",\"step\":36}\n",
      "Dirty cells: 32\n",
      "{\"type\":\"get_step\",\"step\":37}\n",
      "Dirty cells: 31\n",
      "{\"type\":\"get_step\",\"step\":38}\n",
      "Dirty cells: 31\n",
      "{\"type\":\"get_step\",\"step\":39}\n",
      "Dirty cells: 30\n",
      "{\"type\":\"get_step\",\"step\":40}\n",
      "Dirty cells: 30\n",
      "{\"type\":\"get_step\",\"step\":41}\n",
      "Dirty cells: 28\n",
      "{\"type\":\"get_step\",\"step\":42}\n",
      "Dirty cells: 27\n",
      "{\"type\":\"get_step\",\"step\":43}\n",
      "Dirty cells: 26\n",
      "{\"type\":\"get_step\",\"step\":44}\n",
      "Dirty cells: 26\n",
      "{\"type\":\"get_step\",\"step\":45}\n",
      "Dirty cells: 26\n",
      "{\"type\":\"get_step\",\"step\":46}\n",
      "Dirty cells: 26\n",
      "{\"type\":\"get_step\",\"step\":47}\n",
      "Dirty cells: 25\n",
      "{\"type\":\"get_step\",\"step\":48}\n",
      "Dirty cells: 23\n",
      "{\"type\":\"get_step\",\"step\":49}\n",
      "Dirty cells: 21\n",
      "{\"type\":\"get_step\",\"step\":50}\n",
      "Dirty cells: 20\n",
      "{\"type\":\"get_step\",\"step\":51}\n",
      "Dirty cells: 18\n",
      "{\"type\":\"get_step\",\"step\":52}\n",
      "Dirty cells: 17\n",
      "{\"type\":\"get_step\",\"step\":53}\n",
      "Dirty cells: 17\n",
      "{\"type\":\"get_step\",\"step\":54}\n",
      "Dirty cells: 17\n",
      "{\"type\":\"get_step\",\"step\":55}\n",
      "Dirty cells: 16\n",
      "Socket opened!\n",
      "{\"type\":\"reset\"}\n",
      "{\"type\":\"get_step\",\"step\":1}\n",
      "Dirty cells: 95\n",
      "{\"type\":\"get_step\",\"step\":2}\n",
      "Dirty cells: 93\n",
      "{\"type\":\"get_step\",\"step\":3}\n",
      "Dirty cells: 91\n",
      "{\"type\":\"get_step\",\"step\":4}\n",
      "Dirty cells: 88\n",
      "{\"type\":\"get_step\",\"step\":5}\n",
      "Dirty cells: 86\n",
      "{\"type\":\"get_step\",\"step\":6}\n",
      "Dirty cells: 84\n"
     ]
    }
   ],
   "source": [
    "class Robot(mesa.Agent):\n",
    "    def __init__(self, unique_id, model):\n",
    "        super().__init__(unique_id, model)\n",
    "        self.state = \"Cleaning\"\n",
    "\n",
    "    def move(self):\n",
    "        # Definimos la lista de posiciones posibles\n",
    "        nextStep = self.model.grid.get_neighborhood(self.pos, moore=True, include_center=False)\n",
    "\n",
    "        # De forma aleatroia seleccionamos una posición de la lista\n",
    "        new_position = self.random.choice(nextStep)\n",
    "        self.model.grid.move_agent(self, new_position)\n",
    "\n",
    "    def step(self):\n",
    "        self.move()\n",
    "\n",
    "        # Obtiene la lista de los agentes en la posición actual\n",
    "        cellmates = self.model.grid.get_cell_list_contents([self.pos])\n",
    "\n",
    "        # En cada paso, si la celda está sucia, se limpia; si la cella está limpia, se mueve. \n",
    "        if any(isinstance(agent, Trash) for agent in cellmates):\n",
    "            trash = next(\n",
    "                agent for agent in cellmates if isinstance(agent, Trash))\n",
    "\n",
    "            self.state = \"Cleaning\"\n",
    "            self.model.grid.remove_agent(trash)\n",
    "\n",
    "        else:\n",
    "            self.state = \"Moving\"\n",
    "\n",
    "        # # Imprimir el estado del agente de tipo Vacuum\n",
    "        # print(\"Vacuum\", self.unique_id, \":\", self.state)"
   ]
  },
  {
   "cell_type": "markdown",
   "metadata": {},
   "source": [
    "Declaramos la clase para nuestro modelo"
   ]
  },
  {
   "cell_type": "code",
   "execution_count": 27,
   "metadata": {},
   "outputs": [],
   "source": [
    "class Simulation(mesa.Model):\n",
    "    steps = 0\n",
    "    def __init__(self, M, N, n_agents, dirtyCells, max_steps=100):\n",
    "        self.num_agents = n_agents\n",
    "        self.grid = mesa.space.MultiGrid(M, N, True)\n",
    "        self.schedule = mesa.time.RandomActivation(self)\n",
    "        self.max_steps = max_steps\n",
    "        self.running = True\n",
    "        self.steps = 0\n",
    "\n",
    "        # Creamos los robots aspiradores (agentes)\n",
    "        for i in range(self.num_agents):\n",
    "            r = Robot(i, self)\n",
    "            self.schedule.add(r)\n",
    "\n",
    "            self.grid.place_agent(r, (1, 1)) # El agente se inicializa en la posición (1, 1)\n",
    "\n",
    "        # Creamos al agente que representa la suciedad\n",
    "        for cell in self.grid.coord_iter():\n",
    "            cell_content, x, y = cell\n",
    "            if self.random.random() < dirtyCells:\n",
    "                trash = Trash((x, y), self)\n",
    "                self.grid.place_agent(trash, (x, y))\n",
    "\n",
    "    def step(self):\n",
    "        # Si se alcanza el límite de pasos, se detiene la simulación\n",
    "        self.steps += 1\n",
    "        steps += 1\n",
    "        if self.schedule.steps >= self.max_steps:\n",
    "            self.running = False\n",
    "\n",
    "        # Si aún no se alcanza el límite de pasos, se ejecuta el paso de la simulación a menos que no haya celdas sucias\n",
    "        elif self.schedule.steps < self.max_steps:\n",
    "            if self.dirtyCells() == 0:\n",
    "                self.running = False\n",
    "\n",
    "            else:\n",
    "                self.schedule.step()\n",
    "\n",
    "        # Imprime el número de celdas Dirty\n",
    "        print(\"Dirty cells:\", self.dirtyCells())\n",
    "\n",
    "    def run_model(self):\n",
    "        # Mientras la simulación se esté ejecutando\n",
    "        while self.running:\n",
    "            # Ejecuta el paso de la simulación\n",
    "            self.step()\n",
    "\n",
    "    # Fucnión que nos permite obtener los movimeintos totales de los agentes\n",
    "    def totalMoves(self):\n",
    "        movesCounter = 0\n",
    "        for agent in self.schedule.agents:\n",
    "            movesCounter += agent.moves\n",
    "        return movesCounter\n",
    "\n",
    "    # Función que nos permite obtener el número de celdas limpias\n",
    "    def cleanCells(self):\n",
    "        cleanCellsCounter = 0\n",
    "        for cell in self.grid.coord_iter():\n",
    "            cell_content, x, y = cell\n",
    "            if not any(isinstance(agent, Trash) for agent in cell_content):\n",
    "                cleanCellsCounter += 1\n",
    "        return cleanCellsCounter\n",
    "\n",
    "    # Función que nos permite obtener el porcentaje de celdas limpias\n",
    "    def cleanCellsP(self):\n",
    "        return self.cleanCells() / (self.grid.width * self.grid.height) * 100\n",
    "\n",
    "    # Función que nos permite obtener el número de celdas sucias\n",
    "    def dirtyCells(self):\n",
    "        dirtyCellsCounter = 0\n",
    "        for cell in self.grid.coord_iter():\n",
    "            cell_content, x, y = cell\n",
    "            if any(isinstance(agent, Trash) for agent in cell_content):\n",
    "                dirtyCellsCounter += 1\n",
    "        return dirtyCellsCounter\n",
    "\n",
    "    # Función que nos permite obtener el porcentaje de celdas sucias\n",
    "    def dirtyCellsP(self):\n",
    "        # Calcula el porcentaje de celdas Dirty\n",
    "        return self.dirtyCells() / (self.grid.width * self.grid.height) * 100"
   ]
  },
  {
   "cell_type": "code",
   "execution_count": 28,
   "metadata": {},
   "outputs": [
    {
     "name": "stdout",
     "output_type": "stream",
     "text": [
      "Interface starting at http://127.0.0.1:8003\n"
     ]
    },
    {
     "ename": "OSError",
     "evalue": "[Errno 48] Address already in use",
     "output_type": "error",
     "traceback": [
      "\u001b[0;31m---------------------------------------------------------------------------\u001b[0m",
      "\u001b[0;31mOSError\u001b[0m                                   Traceback (most recent call last)",
      "Cell \u001b[0;32mIn [28], line 23\u001b[0m\n\u001b[1;32m     18\u001b[0m server \u001b[39m=\u001b[39m mesa\u001b[39m.\u001b[39mvisualization\u001b[39m.\u001b[39mModularServer(\n\u001b[1;32m     19\u001b[0m     Simulation, [grid], \u001b[39m\"\u001b[39m\u001b[39mHabitación\u001b[39m\u001b[39m\"\u001b[39m, {\u001b[39m\"\u001b[39m\u001b[39mM\u001b[39m\u001b[39m\"\u001b[39m: \u001b[39m10\u001b[39m, \u001b[39m\"\u001b[39m\u001b[39mN\u001b[39m\u001b[39m\"\u001b[39m: \u001b[39m10\u001b[39m, \u001b[39m\"\u001b[39m\u001b[39mn_agents\u001b[39m\u001b[39m\"\u001b[39m: \u001b[39m5\u001b[39m, \u001b[39m\"\u001b[39m\u001b[39mdirtyCells\u001b[39m\u001b[39m\"\u001b[39m: \u001b[39m3\u001b[39m }\n\u001b[1;32m     20\u001b[0m     )\n\u001b[1;32m     22\u001b[0m server\u001b[39m.\u001b[39mport \u001b[39m=\u001b[39m \u001b[39m8003\u001b[39m \u001b[39m# The default\u001b[39;00m\n\u001b[0;32m---> 23\u001b[0m server\u001b[39m.\u001b[39;49mlaunch()\n",
      "File \u001b[0;32m~/Documents/Tec de Monterrey/5to. Semestre/Modelación de sistemas multiagentes con gráficas computacionales/Sistemas Inteligentes/Tarea 1/H1env/lib/python3.9/site-packages/mesa/visualization/ModularVisualization.py:406\u001b[0m, in \u001b[0;36mModularServer.launch\u001b[0;34m(self, port, open_browser)\u001b[0m\n\u001b[1;32m    404\u001b[0m url \u001b[39m=\u001b[39m \u001b[39mf\u001b[39m\u001b[39m\"\u001b[39m\u001b[39mhttp://127.0.0.1:\u001b[39m\u001b[39m{\u001b[39;00m\u001b[39mself\u001b[39m\u001b[39m.\u001b[39mport\u001b[39m}\u001b[39;00m\u001b[39m\"\u001b[39m\n\u001b[1;32m    405\u001b[0m \u001b[39mprint\u001b[39m(\u001b[39mf\u001b[39m\u001b[39m\"\u001b[39m\u001b[39mInterface starting at \u001b[39m\u001b[39m{\u001b[39;00murl\u001b[39m}\u001b[39;00m\u001b[39m\"\u001b[39m)\n\u001b[0;32m--> 406\u001b[0m \u001b[39mself\u001b[39;49m\u001b[39m.\u001b[39;49mlisten(\u001b[39mself\u001b[39;49m\u001b[39m.\u001b[39;49mport)\n\u001b[1;32m    407\u001b[0m \u001b[39mif\u001b[39;00m open_browser:\n\u001b[1;32m    408\u001b[0m     webbrowser\u001b[39m.\u001b[39mopen(url)\n",
      "File \u001b[0;32m~/Documents/Tec de Monterrey/5to. Semestre/Modelación de sistemas multiagentes con gráficas computacionales/Sistemas Inteligentes/Tarea 1/H1env/lib/python3.9/site-packages/tornado/web.py:2134\u001b[0m, in \u001b[0;36mApplication.listen\u001b[0;34m(self, port, address, family, backlog, flags, reuse_port, **kwargs)\u001b[0m\n\u001b[1;32m   2111\u001b[0m \u001b[39m\"\"\"Starts an HTTP server for this application on the given port.\u001b[39;00m\n\u001b[1;32m   2112\u001b[0m \n\u001b[1;32m   2113\u001b[0m \u001b[39mThis is a convenience alias for creating an `.HTTPServer` object and\u001b[39;00m\n\u001b[0;32m   (...)\u001b[0m\n\u001b[1;32m   2131\u001b[0m \u001b[39m   including ``reuse_port``.\u001b[39;00m\n\u001b[1;32m   2132\u001b[0m \u001b[39m\"\"\"\u001b[39;00m\n\u001b[1;32m   2133\u001b[0m server \u001b[39m=\u001b[39m HTTPServer(\u001b[39mself\u001b[39m, \u001b[39m*\u001b[39m\u001b[39m*\u001b[39mkwargs)\n\u001b[0;32m-> 2134\u001b[0m server\u001b[39m.\u001b[39;49mlisten(\n\u001b[1;32m   2135\u001b[0m     port,\n\u001b[1;32m   2136\u001b[0m     address\u001b[39m=\u001b[39;49maddress,\n\u001b[1;32m   2137\u001b[0m     family\u001b[39m=\u001b[39;49mfamily,\n\u001b[1;32m   2138\u001b[0m     backlog\u001b[39m=\u001b[39;49mbacklog,\n\u001b[1;32m   2139\u001b[0m     flags\u001b[39m=\u001b[39;49mflags,\n\u001b[1;32m   2140\u001b[0m     reuse_port\u001b[39m=\u001b[39;49mreuse_port,\n\u001b[1;32m   2141\u001b[0m )\n\u001b[1;32m   2142\u001b[0m \u001b[39mreturn\u001b[39;00m server\n",
      "File \u001b[0;32m~/Documents/Tec de Monterrey/5to. Semestre/Modelación de sistemas multiagentes con gráficas computacionales/Sistemas Inteligentes/Tarea 1/H1env/lib/python3.9/site-packages/tornado/tcpserver.py:183\u001b[0m, in \u001b[0;36mTCPServer.listen\u001b[0;34m(self, port, address, family, backlog, flags, reuse_port)\u001b[0m\n\u001b[1;32m    159\u001b[0m \u001b[39mdef\u001b[39;00m \u001b[39mlisten\u001b[39m(\n\u001b[1;32m    160\u001b[0m     \u001b[39mself\u001b[39m,\n\u001b[1;32m    161\u001b[0m     port: \u001b[39mint\u001b[39m,\n\u001b[0;32m   (...)\u001b[0m\n\u001b[1;32m    166\u001b[0m     reuse_port: \u001b[39mbool\u001b[39m \u001b[39m=\u001b[39m \u001b[39mFalse\u001b[39;00m,\n\u001b[1;32m    167\u001b[0m ) \u001b[39m-\u001b[39m\u001b[39m>\u001b[39m \u001b[39mNone\u001b[39;00m:\n\u001b[1;32m    168\u001b[0m     \u001b[39m\"\"\"Starts accepting connections on the given port.\u001b[39;00m\n\u001b[1;32m    169\u001b[0m \n\u001b[1;32m    170\u001b[0m \u001b[39m    This method may be called more than once to listen on multiple ports.\u001b[39;00m\n\u001b[0;32m   (...)\u001b[0m\n\u001b[1;32m    181\u001b[0m \u001b[39m       arguments to match `tornado.netutil.bind_sockets`.\u001b[39;00m\n\u001b[1;32m    182\u001b[0m \u001b[39m    \"\"\"\u001b[39;00m\n\u001b[0;32m--> 183\u001b[0m     sockets \u001b[39m=\u001b[39m bind_sockets(\n\u001b[1;32m    184\u001b[0m         port,\n\u001b[1;32m    185\u001b[0m         address\u001b[39m=\u001b[39;49maddress,\n\u001b[1;32m    186\u001b[0m         family\u001b[39m=\u001b[39;49mfamily,\n\u001b[1;32m    187\u001b[0m         backlog\u001b[39m=\u001b[39;49mbacklog,\n\u001b[1;32m    188\u001b[0m         flags\u001b[39m=\u001b[39;49mflags,\n\u001b[1;32m    189\u001b[0m         reuse_port\u001b[39m=\u001b[39;49mreuse_port,\n\u001b[1;32m    190\u001b[0m     )\n\u001b[1;32m    191\u001b[0m     \u001b[39mself\u001b[39m\u001b[39m.\u001b[39madd_sockets(sockets)\n",
      "File \u001b[0;32m~/Documents/Tec de Monterrey/5to. Semestre/Modelación de sistemas multiagentes con gráficas computacionales/Sistemas Inteligentes/Tarea 1/H1env/lib/python3.9/site-packages/tornado/netutil.py:162\u001b[0m, in \u001b[0;36mbind_sockets\u001b[0;34m(port, address, family, backlog, flags, reuse_port)\u001b[0m\n\u001b[1;32m    160\u001b[0m sock\u001b[39m.\u001b[39msetblocking(\u001b[39mFalse\u001b[39;00m)\n\u001b[1;32m    161\u001b[0m \u001b[39mtry\u001b[39;00m:\n\u001b[0;32m--> 162\u001b[0m     sock\u001b[39m.\u001b[39;49mbind(sockaddr)\n\u001b[1;32m    163\u001b[0m \u001b[39mexcept\u001b[39;00m \u001b[39mOSError\u001b[39;00m \u001b[39mas\u001b[39;00m e:\n\u001b[1;32m    164\u001b[0m     \u001b[39mif\u001b[39;00m (\n\u001b[1;32m    165\u001b[0m         errno_from_exception(e) \u001b[39m==\u001b[39m errno\u001b[39m.\u001b[39mEADDRNOTAVAIL\n\u001b[1;32m    166\u001b[0m         \u001b[39mand\u001b[39;00m address \u001b[39m==\u001b[39m \u001b[39m\"\u001b[39m\u001b[39mlocalhost\u001b[39m\u001b[39m\"\u001b[39m\n\u001b[0;32m   (...)\u001b[0m\n\u001b[1;32m    178\u001b[0m         \u001b[39m# might be a real problem like a typo in a\u001b[39;00m\n\u001b[1;32m    179\u001b[0m         \u001b[39m# configuration.\u001b[39;00m\n",
      "\u001b[0;31mOSError\u001b[0m: [Errno 48] Address already in use"
     ]
    }
   ],
   "source": [
    "def agent_portrayal(agent):\n",
    "    portrayal = {\"Shape\": \"circle\",\n",
    "                \"Filled\": \"true\",\n",
    "                \"Layer\": 0,\n",
    "                \"Color\": \"red\",\n",
    "                \"r\": 0.5}\n",
    "\n",
    "    if agent.state == 1:\n",
    "        portrayal[\"Color\"] = \"black\"\n",
    "        portrayal[\"r\"] = 0.2\n",
    "    elif agent.state == \"Cleaning\":\n",
    "        portrayal[\"Color\"] = \"blue\"\n",
    "    else:\n",
    "        portrayal[\"Color\"] = \"blue\"\n",
    "    return portrayal\n",
    "\n",
    "grid = mesa.visualization.CanvasGrid(agent_portrayal, 10, 10, 500, 500)\n",
    "server = mesa.visualization.ModularServer(\n",
    "    Simulation, [grid], \"Habitación\", {\"M\": 10, \"N\": 10, \"n_agents\": 5, \"dirtyCells\": 3 }\n",
    "    )\n",
    "\n",
    "server.port = 8003 # The default\n",
    "server.launch()"
   ]
  },
  {
   "cell_type": "code",
   "execution_count": 29,
   "metadata": {},
   "outputs": [
    {
     "name": "stdout",
     "output_type": "stream",
     "text": [
      "<bound method Simulation.dirtyCells of <__main__.Simulation object at 0x12f574340>>\n"
     ]
    },
    {
     "ename": "NameError",
     "evalue": "name 'cleanCellsP' is not defined",
     "output_type": "error",
     "traceback": [
      "\u001b[0;31m---------------------------------------------------------------------------\u001b[0m",
      "\u001b[0;31mNameError\u001b[0m                                 Traceback (most recent call last)",
      "Cell \u001b[0;32mIn [29], line 3\u001b[0m\n\u001b[1;32m      1\u001b[0m f2, ax2 \u001b[39m=\u001b[39m plt\u001b[39m.\u001b[39msubplots(\u001b[39m2\u001b[39m,\u001b[39m2\u001b[39m, figsize \u001b[39m=\u001b[39m (\u001b[39m7\u001b[39m,\u001b[39m7\u001b[39m))\n\u001b[1;32m      2\u001b[0m \u001b[39mprint\u001b[39m(server\u001b[39m.\u001b[39mmodel\u001b[39m.\u001b[39mdirtyCells)\n\u001b[0;32m----> 3\u001b[0m ax2[\u001b[39m0\u001b[39m,\u001b[39m0\u001b[39m]\u001b[39m.\u001b[39mplot(server\u001b[39m.\u001b[39mmodel\u001b[39m.\u001b[39msteps, cleanCellsP, label \u001b[39m=\u001b[39m \u001b[39m\"\u001b[39m\u001b[39mClean cells\u001b[39m\u001b[39m\"\u001b[39m)\n",
      "\u001b[0;31mNameError\u001b[0m: name 'cleanCellsP' is not defined"
     ]
    },
    {
     "data": {
      "image/png": "[encoded data removed]",
      "text/plain": [
       "<Figure size 700x700 with 4 Axes>"
      ]
     },
     "metadata": {},
     "output_type": "display_data"
    }
   ],
   "source": [
    "f2, ax2 = plt.subplots(2,2, figsize = (7,7))\n",
    "print(server.model.dirtyCells)\n",
    "ax2[0,0].plot(server.model.steps, cleanCellsP, label = \"Clean cells\")"
   ]
  }
 ],
 "metadata": {
  "kernelspec": {
   "display_name": "Python 3.9.6 ('H1env': venv)",
   "language": "python",
   "name": "python3"
  },
  "language_info": {
   "codemirror_mode": {
    "name": "ipython",
    "version": 3
   },
   "file_extension": ".py",
   "mimetype": "text/x-python",
   "name": "python",
   "nbconvert_exporter": "python",
   "pygments_lexer": "ipython3",
   "version": "3.9.6"
  },
  "orig_nbformat": 4,
  "vscode": {
   "interpreter": {
    "hash": "3a4528ebcce12d6ca71c6a1b32f71df8190543f393b0f5ff0c4bb50531d99ff5"
   }
  }
 },
 "nbformat": 4,
 "nbformat_minor": 2
}
